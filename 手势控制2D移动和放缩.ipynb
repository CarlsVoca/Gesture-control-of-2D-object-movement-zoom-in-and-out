{
 "cells": [
  {
   "cell_type": "code",
   "execution_count": null,
   "id": "bc16a1f8",
   "metadata": {},
   "outputs": [],
   "source": [
    "import cv2\n",
    "from cvzone.HandTrackingModule import HandDetector\n",
    "\n",
    "cap = cv2.VideoCapture(0)\n",
    "cap.set(3, 1280)\n",
    "cap.set(4, 720)\n",
    "detector = HandDetector(detectionCon=0.8)\n",
    "startDistance = None\n",
    "scale = 0\n",
    "cx, cy = 500, 500\n",
    "newH, newW = 250, 250\n",
    "\n",
    "while True:\n",
    "    success, img = cap.read()\n",
    "    img = cv2.flip(img, 1)\n",
    "    hands, img = detector.findHands(img, flipType = False)\n",
    "    \n",
    "    if len(hands) == 1:\n",
    "        if detector.fingersUp(hands[0]) == [1, 1, 1, 0, 0]:\n",
    "            l, _, _ = detector.findDistance(hands[0]['lmList'][8][0:2], hands[0]['lmList'][12][0:2], img)\n",
    "#         print(l)\n",
    "            if l < 50:\n",
    "                cursor = hands[0]['lmList'][8][0:2]\n",
    "                if cx - newW//2 < cursor[0] < cx + newW//2 and cy - newH//2 < cursor[1] < cy + newH//2:\n",
    "                    cx, cy = cursor\n",
    "    \n",
    "    if len(hands) == 2:\n",
    "        if detector.fingersUp(hands[0]) == [0, 1, 0, 0, 0] and detector.fingersUp(hands[1]) == [0, 1, 0, 0, 0]:\n",
    "            lmList1 = hands[0][\"lmList\"]\n",
    "            lmList2 = hands[1][\"lmList\"]\n",
    "            length, info, img = detector.findDistance(lmList1[8][0:2], lmList2[8][0:2], img)\n",
    "            if startDistance is None:\n",
    "                startDistance = length\n",
    "            else:\n",
    "                scale = (int)((length - startDistance) // 2)\n",
    "                cx, cy = info[4:6]\n",
    "    else:\n",
    "        startDistance = None\n",
    "    \n",
    "    img1 = cv2.imread(\"cat.jpg\")\n",
    "    h1, w1, _ =  img1.shape\n",
    "    newH, newW = (h1 + scale)//2*2, (w1 + scale)//2*2\n",
    "    img1 = cv2.resize(img1, (newW, newH))\n",
    "    try:\n",
    "        img[cy - newH//2:cy + newH//2, cx - newW//2:cx + newW//2] = img1\n",
    "    except:\n",
    "        pass\n",
    "    \n",
    "    cv2.imshow(\"Image\", img)\n",
    "    cv2.waitKey(1)"
   ]
  }
 ],
 "metadata": {
  "kernelspec": {
   "display_name": "Python 3 (ipykernel)",
   "language": "python",
   "name": "python3"
  },
  "language_info": {
   "codemirror_mode": {
    "name": "ipython",
    "version": 3
   },
   "file_extension": ".py",
   "mimetype": "text/x-python",
   "name": "python",
   "nbconvert_exporter": "python",
   "pygments_lexer": "ipython3",
   "version": "3.8.13"
  }
 },
 "nbformat": 4,
 "nbformat_minor": 5
}
